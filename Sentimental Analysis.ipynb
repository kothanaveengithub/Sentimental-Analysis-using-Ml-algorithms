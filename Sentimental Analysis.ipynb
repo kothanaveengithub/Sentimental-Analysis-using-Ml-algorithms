{
 "cells": [
  {
   "cell_type": "markdown",
   "id": "879384fd-366e-488b-814d-fd5052513640",
   "metadata": {
    "tags": []
   },
   "source": [
    "## SENTIMENTAL ANALYSIS"
   ]
  },
  {
   "cell_type": "markdown",
   "id": "8c96e9e7-a6c0-4435-a6c6-e7f2fea6dd62",
   "metadata": {},
   "source": [
    "## SPRINT 1 - Create DataFrame from raw text files"
   ]
  },
  {
   "cell_type": "code",
   "execution_count": 20,
   "id": "631e99b8-ea30-47ba-b5df-37bb4dc182a3",
   "metadata": {
    "tags": []
   },
   "outputs": [],
   "source": [
    "import pandas as pd"
   ]
  },
  {
   "cell_type": "code",
   "execution_count": 2,
   "id": "eaf761ad-24ef-4a44-a204-3b43387ffbc7",
   "metadata": {
    "tags": []
   },
   "outputs": [],
   "source": [
    "# Sample data extracted from the provided image\n",
    "data = \"\"\"\n",
    "ProductId: B001E4KFG0\n",
    "UserId: A3SGXH7AUHU8GW\n",
    "ProfileName: delmartian\n",
    "HelpfulnessNumerator: 1\n",
    "HelpfulnessDenominator: 1\n",
    "Score: 5\n",
    "Time: 1303862400\n",
    "ReviewSummary: Good Quality Dog Food\n",
    "ReviewText: I have bought several of the Vitality canned dog food products and have found them all to be of good quality. The product looks more like a stew than a processed meat and it smells better. My Labrador is finicky and she appreciates this product better than most.\n",
    "\"\"\""
   ]
  },
  {
   "cell_type": "code",
   "execution_count": 3,
   "id": "b882f0ea-106f-4a82-befc-71929a2e2476",
   "metadata": {
    "tags": []
   },
   "outputs": [
    {
     "name": "stdout",
     "output_type": "stream",
     "text": [
      "   Id   ProductId          UserId ProfileName HelpfulnessNumerator  \\\n",
      "0   0  B001E4KFG0  A3SGXH7AUHU8GW  delmartian                    1   \n",
      "\n",
      "  HelpfulnessDenominator Score        Time          ReviewSummary  \\\n",
      "0                      1     5  1303862400  Good Quality Dog Food   \n",
      "\n",
      "                                          ReviewText  \n",
      "0  I have bought several of the Vitality canned d...  \n"
     ]
    }
   ],
   "source": [
    "# Parsing function to extract fields\n",
    "def parse_review_data(text):\n",
    "    lines = text.strip().split('\\n')\n",
    "    review_data = {}\n",
    "    for line in lines:\n",
    "        key, value = line.split(': ', 1)\n",
    "        review_data[key] = value\n",
    "    return review_data\n",
    "\n",
    "# Parse the sample data\n",
    "parsed_data = parse_review_data(data)\n",
    "\n",
    "# Convert parsed data into DataFrame\n",
    "df = pd.DataFrame([parsed_data])\n",
    "\n",
    "# Add Id column\n",
    "df.reset_index(inplace=True)\n",
    "df.rename(columns={'index': 'Id'}, inplace=True)\n",
    "\n",
    "# Save DataFrame to CSV\n",
    "df.to_csv('reviews.csv', index=False)\n",
    "print(df)"
   ]
  },
  {
   "cell_type": "code",
   "execution_count": 4,
   "id": "1aa5f498-574e-475c-b1ba-5df405cb4b31",
   "metadata": {
    "tags": []
   },
   "outputs": [],
   "source": [
    "import os"
   ]
  },
  {
   "cell_type": "code",
   "execution_count": 5,
   "id": "0cefd3c2-264f-4437-96ac-28f4e509ffe8",
   "metadata": {
    "tags": []
   },
   "outputs": [],
   "source": [
    "directory =r\"C:\\Users\\navee\\OneDrive\\Desktop\\text_reviews\""
   ]
  },
  {
   "cell_type": "code",
   "execution_count": 6,
   "id": "c08d566b-a5be-496a-8a42-d6f48c6c0fe6",
   "metadata": {
    "tags": []
   },
   "outputs": [],
   "source": [
    "# Initialize an empty list to hold review data\n",
    "reviews = []\n",
    "\n",
    "# Loop through each file in the directory\n",
    "for filename in os.listdir(directory):\n",
    "    if filename.endswith(\".txt\"):\n",
    "        with open(os.path.join(directory, filename), 'r') as file:\n",
    "            data = file.read()\n",
    "            parsed_data = parse_review_data(data)\n",
    "            reviews.append(parsed_data)\n",
    "\n",
    "# Convert list of dictionaries to DataFrame\n",
    "df = pd.DataFrame(reviews)\n",
    "\n",
    "# Add Id column\n",
    "df.reset_index(inplace=True)\n",
    "df.rename(columns={'index': 'Id'}, inplace=True)\n",
    "\n",
    "# Save DataFrame to CSV\n",
    "df.to_csv('reviews.csv',index=False)"
   ]
  },
  {
   "cell_type": "markdown",
   "id": "a1c68c2e-3ef1-45da-909c-383923dcbf7b",
   "metadata": {},
   "source": [
    "## SPRINT 2 - Build a model"
   ]
  },
  {
   "cell_type": "code",
   "execution_count": 9,
   "id": "97289e18-cf2c-4415-898e-62d24003207d",
   "metadata": {
    "tags": []
   },
   "outputs": [],
   "source": [
    "import pandas as pd\n",
    "import numpy as np\n",
    "from sklearn.model_selection import train_test_split\n",
    "from sklearn.feature_extraction.text import TfidfVectorizer\n",
    "from sklearn.linear_model import LinearRegression\n",
    "from sklearn.ensemble import RandomForestRegressor, GradientBoostingRegressor\n",
    "from sklearn.metrics import mean_squared_error, r2_score\n",
    "import string"
   ]
  },
  {
   "cell_type": "code",
   "execution_count": 10,
   "id": "999703f5-d823-49f7-8be4-a7afdacb74b8",
   "metadata": {
    "tags": []
   },
   "outputs": [],
   "source": [
    "# Load the data\n",
    "df =pd.read_csv(r\"reviews.csv\")"
   ]
  },
  {
   "cell_type": "code",
   "execution_count": 11,
   "id": "f32a1455-35a2-41f5-ad74-8dfa308c185c",
   "metadata": {
    "tags": []
   },
   "outputs": [
    {
     "data": {
      "text/html": [
       "<div>\n",
       "<style scoped>\n",
       "    .dataframe tbody tr th:only-of-type {\n",
       "        vertical-align: middle;\n",
       "    }\n",
       "\n",
       "    .dataframe tbody tr th {\n",
       "        vertical-align: top;\n",
       "    }\n",
       "\n",
       "    .dataframe thead th {\n",
       "        text-align: right;\n",
       "    }\n",
       "</style>\n",
       "<table border=\"1\" class=\"dataframe\">\n",
       "  <thead>\n",
       "    <tr style=\"text-align: right;\">\n",
       "      <th></th>\n",
       "      <th>Id</th>\n",
       "      <th>ProductId</th>\n",
       "      <th>UserId</th>\n",
       "      <th>ProfileName</th>\n",
       "      <th>HelpfulnessNumerator</th>\n",
       "      <th>HelpfulnessDenominator</th>\n",
       "      <th>Score</th>\n",
       "      <th>Time</th>\n",
       "      <th>ReviewSummary</th>\n",
       "      <th>ReviewText</th>\n",
       "    </tr>\n",
       "  </thead>\n",
       "  <tbody>\n",
       "    <tr>\n",
       "      <th>0</th>\n",
       "      <td>0</td>\n",
       "      <td>B000LQORDE</td>\n",
       "      <td>A19W47CXJJP1MI</td>\n",
       "      <td>Amazonian Consumer</td>\n",
       "      <td>2</td>\n",
       "      <td>5</td>\n",
       "      <td>5</td>\n",
       "      <td>1235088000</td>\n",
       "      <td>This spicy noodle cures my cold, upset stomach...</td>\n",
       "      <td>I love this noodle and have it once or twice a...</td>\n",
       "    </tr>\n",
       "    <tr>\n",
       "      <th>1</th>\n",
       "      <td>1</td>\n",
       "      <td>B000LQORDE</td>\n",
       "      <td>A13LMI7F7UC2VO</td>\n",
       "      <td>Super Villain</td>\n",
       "      <td>6</td>\n",
       "      <td>12</td>\n",
       "      <td>3</td>\n",
       "      <td>1251244800</td>\n",
       "      <td>I'm spicyyyyyyyyyy</td>\n",
       "      <td>That's pretty much what these ramen noodles ha...</td>\n",
       "    </tr>\n",
       "    <tr>\n",
       "      <th>2</th>\n",
       "      <td>2</td>\n",
       "      <td>B000LQORDE</td>\n",
       "      <td>A29WRXXYKLFTG</td>\n",
       "      <td>zhenzhen</td>\n",
       "      <td>0</td>\n",
       "      <td>2</td>\n",
       "      <td>5</td>\n",
       "      <td>1320537600</td>\n",
       "      <td>I like it</td>\n",
       "      <td>The taste is great! especially when you cook i...</td>\n",
       "    </tr>\n",
       "    <tr>\n",
       "      <th>3</th>\n",
       "      <td>3</td>\n",
       "      <td>B000LQORDE</td>\n",
       "      <td>A2LKCOIVLZWDG5</td>\n",
       "      <td>TopQuark</td>\n",
       "      <td>0</td>\n",
       "      <td>2</td>\n",
       "      <td>5</td>\n",
       "      <td>1320537600</td>\n",
       "      <td>The best instant noodle!</td>\n",
       "      <td>This is the best instant noodle I have tried. ...</td>\n",
       "    </tr>\n",
       "    <tr>\n",
       "      <th>4</th>\n",
       "      <td>4</td>\n",
       "      <td>B000LQORDE</td>\n",
       "      <td>A1GPN9X27K5WN</td>\n",
       "      <td>Chase A Byrd \"byrd720\"</td>\n",
       "      <td>0</td>\n",
       "      <td>2</td>\n",
       "      <td>5</td>\n",
       "      <td>1319932800</td>\n",
       "      <td>Awesome!</td>\n",
       "      <td>I don't see how anyone could say anything bad ...</td>\n",
       "    </tr>\n",
       "  </tbody>\n",
       "</table>\n",
       "</div>"
      ],
      "text/plain": [
       "   Id   ProductId          UserId             ProfileName  \\\n",
       "0   0  B000LQORDE  A19W47CXJJP1MI      Amazonian Consumer   \n",
       "1   1  B000LQORDE  A13LMI7F7UC2VO           Super Villain   \n",
       "2   2  B000LQORDE   A29WRXXYKLFTG                zhenzhen   \n",
       "3   3  B000LQORDE  A2LKCOIVLZWDG5                TopQuark   \n",
       "4   4  B000LQORDE   A1GPN9X27K5WN  Chase A Byrd \"byrd720\"   \n",
       "\n",
       "   HelpfulnessNumerator  HelpfulnessDenominator  Score        Time  \\\n",
       "0                     2                       5      5  1235088000   \n",
       "1                     6                      12      3  1251244800   \n",
       "2                     0                       2      5  1320537600   \n",
       "3                     0                       2      5  1320537600   \n",
       "4                     0                       2      5  1319932800   \n",
       "\n",
       "                                       ReviewSummary  \\\n",
       "0  This spicy noodle cures my cold, upset stomach...   \n",
       "1                                 I'm spicyyyyyyyyyy   \n",
       "2                                          I like it   \n",
       "3                           The best instant noodle!   \n",
       "4                                           Awesome!   \n",
       "\n",
       "                                          ReviewText  \n",
       "0  I love this noodle and have it once or twice a...  \n",
       "1  That's pretty much what these ramen noodles ha...  \n",
       "2  The taste is great! especially when you cook i...  \n",
       "3  This is the best instant noodle I have tried. ...  \n",
       "4  I don't see how anyone could say anything bad ...  "
      ]
     },
     "execution_count": 11,
     "metadata": {},
     "output_type": "execute_result"
    }
   ],
   "source": [
    "df.head()"
   ]
  },
  {
   "cell_type": "code",
   "execution_count": 12,
   "id": "fae5c777-c9d3-440e-9ec7-5f59857f03c6",
   "metadata": {
    "tags": []
   },
   "outputs": [],
   "source": [
    "# Basic text preprocessing function\n",
    "def preprocess_text(text):\n",
    "    text = text.lower()  # Lowercase text\n",
    "    text = ''.join([c for c in text if c not in string.punctuation])  # Remove punctuation\n",
    "    return text"
   ]
  },
  {
   "cell_type": "code",
   "execution_count": 13,
   "id": "f925094e-e07f-4147-a7e0-afb6158fd277",
   "metadata": {
    "tags": []
   },
   "outputs": [],
   "source": [
    "# Apply text preprocessing\n",
    "df['ReviewText'] = df['ReviewText'].apply(preprocess_text)"
   ]
  },
  {
   "cell_type": "code",
   "execution_count": 14,
   "id": "e7c0c360-a8da-40af-ac7b-d962d30de4fc",
   "metadata": {
    "tags": []
   },
   "outputs": [],
   "source": [
    "# Feature extraction using TF-IDF\n",
    "tfidf = TfidfVectorizer(max_features=5000)  # Limit to top 5000 features\n",
    "X = tfidf.fit_transform(df['ReviewText']).toarray()\n",
    "y = df['Score']"
   ]
  },
  {
   "cell_type": "code",
   "execution_count": 15,
   "id": "4493df0c-4ca2-4e3a-84f5-dc6ff4bb9976",
   "metadata": {
    "tags": []
   },
   "outputs": [],
   "source": [
    "# Train-test split\n",
    "X_train, X_test, y_train, y_test = train_test_split(X, y, test_size=0.2, random_state=42)"
   ]
  },
  {
   "cell_type": "code",
   "execution_count": 16,
   "id": "e11d58ef-3273-4519-868d-3b65f56aa2c7",
   "metadata": {
    "tags": []
   },
   "outputs": [],
   "source": [
    "# Initialize models\n",
    "models = {\n",
    "    'Linear Regression': LinearRegression(),\n",
    "    'Random Forest': RandomForestRegressor(n_estimators=100, random_state=42),\n",
    "    'Gradient Boosting': GradientBoostingRegressor(n_estimators=100, random_state=42)\n",
    "}"
   ]
  },
  {
   "cell_type": "code",
   "execution_count": 17,
   "id": "c5981d88-e94d-41b2-8736-bfadbd91f979",
   "metadata": {
    "tags": []
   },
   "outputs": [
    {
     "name": "stdout",
     "output_type": "stream",
     "text": [
      "Linear Regression: MSE = 1.50, R^2 = 0.09\n",
      "Random Forest: MSE = 1.57, R^2 = 0.04\n",
      "Gradient Boosting: MSE = 1.59, R^2 = 0.03\n"
     ]
    }
   ],
   "source": [
    "# Train and evaluate models\n",
    "for name, model in models.items():\n",
    "    model.fit(X_train, y_train)\n",
    "    y_pred = model.predict(X_test)\n",
    "    mse = mean_squared_error(y_test, y_pred)\n",
    "    r2 = r2_score(y_test, y_pred)\n",
    "    print(f'{name}: MSE = {mse:.2f}, R^2 = {r2:.2f}')"
   ]
  },
  {
   "cell_type": "code",
   "execution_count": 18,
   "id": "cab4afc9-4ce8-4fbd-9a74-43221c015400",
   "metadata": {},
   "outputs": [
    {
     "name": "stdout",
     "output_type": "stream",
     "text": [
      "Best Model: Linear Regression\n"
     ]
    }
   ],
   "source": [
    "# Select the best model based on evaluation metrics\n",
    "best_model_name = min(models, key=lambda name: mean_squared_error(y_test, models[name].predict(X_test)))\n",
    "best_model = models[best_model_name]\n",
    "print(f'Best Model: {best_model_name}')"
   ]
  }
 ],
 "metadata": {
  "kernelspec": {
   "display_name": "Python 3 (ipykernel)",
   "language": "python",
   "name": "python3"
  },
  "language_info": {
   "codemirror_mode": {
    "name": "ipython",
    "version": 3
   },
   "file_extension": ".py",
   "mimetype": "text/x-python",
   "name": "python",
   "nbconvert_exporter": "python",
   "pygments_lexer": "ipython3",
   "version": "3.11.5"
  }
 },
 "nbformat": 4,
 "nbformat_minor": 5
}
